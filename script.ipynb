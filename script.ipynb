{
 "cells": [
  {
   "cell_type": "code",
   "execution_count": 1,
   "id": "ddd7c1c0-8e39-441e-ace3-6934db9bb4a4",
   "metadata": {},
   "outputs": [],
   "source": [
    "from tool import processor, correlation, resampling, score"
   ]
  },
  {
   "cell_type": "markdown",
   "id": "e30e25ea-eabf-4c07-a617-146d3b7ce92a",
   "metadata": {
    "jp-MarkdownHeadingCollapsed": true,
    "tags": []
   },
   "source": [
    "### 1. Rank Clustering\n",
    "- Open score files\n",
    "- IQR example\n",
    "- Compute the rankings of pre-tokenizers"
   ]
  },
  {
   "cell_type": "code",
   "execution_count": 2,
   "id": "db2f80bd-bfc9-4781-9415-28f54fde589e",
   "metadata": {},
   "outputs": [],
   "source": [
    "path = './data/segment_level/raw'\n",
    "f = processor.FileProcessor(path)"
   ]
  },
  {
   "cell_type": "code",
   "execution_count": 3,
   "id": "99d0beaa-a9f9-4714-9c7b-4fa8b778005a",
   "metadata": {},
   "outputs": [
    {
     "data": {
      "text/html": [
       "<div>\n",
       "<style scoped>\n",
       "    .dataframe tbody tr th:only-of-type {\n",
       "        vertical-align: middle;\n",
       "    }\n",
       "\n",
       "    .dataframe tbody tr th {\n",
       "        vertical-align: top;\n",
       "    }\n",
       "\n",
       "    .dataframe thead th {\n",
       "        text-align: right;\n",
       "    }\n",
       "</style>\n",
       "<table border=\"1\" class=\"dataframe\">\n",
       "  <thead>\n",
       "    <tr style=\"text-align: right;\">\n",
       "      <th></th>\n",
       "      <th>sacreTer.Hannanum</th>\n",
       "      <th>sacreTer.Khaiii</th>\n",
       "      <th>sacreTer.Kiwi</th>\n",
       "      <th>sacreTer.Kkma</th>\n",
       "      <th>sacreTer.Mecab</th>\n",
       "      <th>sacreTer.Komoran</th>\n",
       "      <th>sacreTer.None</th>\n",
       "      <th>sacreTer.Okt</th>\n",
       "      <th>sacreTer.Spm</th>\n",
       "      <th>sacreBleu.Jamo</th>\n",
       "      <th>...</th>\n",
       "      <th>sacreChrf.Kkma</th>\n",
       "      <th>sacreChrf.Komoran</th>\n",
       "      <th>sacreChrf.Mecab</th>\n",
       "      <th>sacreChrf.None</th>\n",
       "      <th>sacreChrf.Okt</th>\n",
       "      <th>sacreChrf.Spm</th>\n",
       "      <th>sacreChrf.Character</th>\n",
       "      <th>sacreTer.Jamo</th>\n",
       "      <th>sacreTer.Character</th>\n",
       "      <th>Human</th>\n",
       "    </tr>\n",
       "  </thead>\n",
       "  <tbody>\n",
       "    <tr>\n",
       "      <th>0</th>\n",
       "      <td>64.7059</td>\n",
       "      <td>50.0</td>\n",
       "      <td>50.0000</td>\n",
       "      <td>47.8261</td>\n",
       "      <td>50.0000</td>\n",
       "      <td>50.0000</td>\n",
       "      <td>77.7778</td>\n",
       "      <td>66.6667</td>\n",
       "      <td>50.0000</td>\n",
       "      <td>53.4154</td>\n",
       "      <td>...</td>\n",
       "      <td>53.3701</td>\n",
       "      <td>53.0081</td>\n",
       "      <td>52.3972</td>\n",
       "      <td>50.6958</td>\n",
       "      <td>48.1593</td>\n",
       "      <td>52.3972</td>\n",
       "      <td>54.0168</td>\n",
       "      <td>34.8485</td>\n",
       "      <td>44.8276</td>\n",
       "      <td>-1.0107</td>\n",
       "    </tr>\n",
       "    <tr>\n",
       "      <th>1</th>\n",
       "      <td>56.5217</td>\n",
       "      <td>62.5</td>\n",
       "      <td>54.1667</td>\n",
       "      <td>50.0000</td>\n",
       "      <td>60.0000</td>\n",
       "      <td>54.1667</td>\n",
       "      <td>66.6667</td>\n",
       "      <td>55.5556</td>\n",
       "      <td>59.0909</td>\n",
       "      <td>40.8603</td>\n",
       "      <td>...</td>\n",
       "      <td>44.6038</td>\n",
       "      <td>44.7165</td>\n",
       "      <td>41.2800</td>\n",
       "      <td>39.2493</td>\n",
       "      <td>41.2018</td>\n",
       "      <td>41.4562</td>\n",
       "      <td>41.8010</td>\n",
       "      <td>47.0588</td>\n",
       "      <td>52.9412</td>\n",
       "      <td>-1.0107</td>\n",
       "    </tr>\n",
       "    <tr>\n",
       "      <th>2</th>\n",
       "      <td>27.5862</td>\n",
       "      <td>25.0</td>\n",
       "      <td>25.0000</td>\n",
       "      <td>29.0323</td>\n",
       "      <td>25.8065</td>\n",
       "      <td>22.5806</td>\n",
       "      <td>45.4545</td>\n",
       "      <td>33.3333</td>\n",
       "      <td>25.8065</td>\n",
       "      <td>60.0980</td>\n",
       "      <td>...</td>\n",
       "      <td>66.3012</td>\n",
       "      <td>70.0629</td>\n",
       "      <td>68.7973</td>\n",
       "      <td>65.4657</td>\n",
       "      <td>67.0995</td>\n",
       "      <td>68.7973</td>\n",
       "      <td>67.6693</td>\n",
       "      <td>24.4444</td>\n",
       "      <td>25.6410</td>\n",
       "      <td>1.1051</td>\n",
       "    </tr>\n",
       "  </tbody>\n",
       "</table>\n",
       "<p>3 rows × 34 columns</p>\n",
       "</div>"
      ],
      "text/plain": [
       "   sacreTer.Hannanum  sacreTer.Khaiii  sacreTer.Kiwi  sacreTer.Kkma  \\\n",
       "0            64.7059             50.0        50.0000        47.8261   \n",
       "1            56.5217             62.5        54.1667        50.0000   \n",
       "2            27.5862             25.0        25.0000        29.0323   \n",
       "\n",
       "   sacreTer.Mecab  sacreTer.Komoran  sacreTer.None  sacreTer.Okt  \\\n",
       "0         50.0000           50.0000        77.7778       66.6667   \n",
       "1         60.0000           54.1667        66.6667       55.5556   \n",
       "2         25.8065           22.5806        45.4545       33.3333   \n",
       "\n",
       "   sacreTer.Spm  sacreBleu.Jamo  ...  sacreChrf.Kkma  sacreChrf.Komoran  \\\n",
       "0       50.0000         53.4154  ...         53.3701            53.0081   \n",
       "1       59.0909         40.8603  ...         44.6038            44.7165   \n",
       "2       25.8065         60.0980  ...         66.3012            70.0629   \n",
       "\n",
       "   sacreChrf.Mecab  sacreChrf.None  sacreChrf.Okt  sacreChrf.Spm  \\\n",
       "0          52.3972         50.6958        48.1593        52.3972   \n",
       "1          41.2800         39.2493        41.2018        41.4562   \n",
       "2          68.7973         65.4657        67.0995        68.7973   \n",
       "\n",
       "   sacreChrf.Character  sacreTer.Jamo  sacreTer.Character   Human  \n",
       "0              54.0168        34.8485             44.8276 -1.0107  \n",
       "1              41.8010        47.0588             52.9412 -1.0107  \n",
       "2              67.6693        24.4444             25.6410  1.1051  \n",
       "\n",
       "[3 rows x 34 columns]"
      ]
     },
     "execution_count": 3,
     "metadata": {},
     "output_type": "execute_result"
    }
   ],
   "source": [
    "df = f.makeFrame()\n",
    "df.head(3)"
   ]
  },
  {
   "cell_type": "code",
   "execution_count": 4,
   "id": "d28083dd-fb5e-444b-854d-d3b8c56d3e66",
   "metadata": {},
   "outputs": [
    {
     "data": {
      "text/plain": [
       "(7727, 7636)"
      ]
     },
     "execution_count": 4,
     "metadata": {},
     "output_type": "execute_result"
    }
   ],
   "source": [
    "# IQR\n",
    "test_scores = df.iloc[:, 0].tolist()\n",
    "s = score.Score(test_scores)\n",
    "len(test_scores), len(s.iqr())"
   ]
  },
  {
   "cell_type": "code",
   "execution_count": 5,
   "id": "f384eb0b-e994-4fc1-8572-a50c45a94a9a",
   "metadata": {},
   "outputs": [
    {
     "name": "stdout",
     "output_type": "stream",
     "text": [
      "Confidence 95% = 34.43 ~ 103.18\n"
     ]
    }
   ],
   "source": [
    "ci, _mean = s.estimate_ci()\n",
    "print('Confidence 95% = {:.2f} ~ {:.2f}'.format(_mean - ci, _mean + ci))"
   ]
  },
  {
   "cell_type": "code",
   "execution_count": 4,
   "id": "078afe6d-4338-4292-acab-53e9bb68e09d",
   "metadata": {
    "tags": []
   },
   "outputs": [
    {
     "name": "stdout",
     "output_type": "stream",
     "text": [
      "[('sacreBleu.Character', 0), ('sacreBleu.Kiwi', 0), ('sacreBleu.Komoran', 0), ('sacreBleu.Jamo', 0), ('sacreBleu.Khaiii', 1), ('sacreBleu.Kkma', 2), ('sacreBleu.Mecab', 2), ('sacreBleu.Spm', 3), ('sacreBleu.Okt', 4), ('sacreBleu.Hannanum', 5), ('sacreBleu.None', 6)] \n",
      "\n",
      "[('sacreChrf.Komoran', 0), ('sacreChrf.Khaiii', 0), ('sacreChrf.Kiwi', 1), ('sacreChrf.Kkma', 2), ('sacreChrf.Character', 2), ('sacreChrf.Mecab', 2), ('sacreChrf.Spm', 2), ('sacreChrf.Okt', 3), ('sacreChrf.Hannanum', 4), ('sacreChrf.None', 5), ('sacreChrf.Jamo', 6)] \n",
      "\n",
      "[('sacreTer.None', 0), ('sacreTer.Hannanum', 1), ('sacreTer.Jamo', 1), ('sacreTer.Okt', 2), ('sacreTer.Character', 3), ('sacreTer.Khaiii', 4), ('sacreTer.Spm', 4), ('sacreTer.Komoran', 4), ('sacreTer.Mecab', 5), ('sacreTer.Kiwi', 6), ('sacreTer.Kkma', 6)] \n",
      "\n"
     ]
    }
   ],
   "source": [
    "# clustering\n",
    "for metric in ['bleu', 'chrf', 'ter']:\n",
    "    pearson = correlation.Correlation(f.selectFrame(metric))\n",
    "    print(pearson.rank_cluster(), '\\n')"
   ]
  },
  {
   "cell_type": "markdown",
   "id": "2867814b-f23e-4b38-916e-13407cae433d",
   "metadata": {
    "tags": []
   },
   "source": [
    "### 2. Bootstrap Resampling\n",
    "- Wilcoxon rank sum test with variable `m, n, iteration`"
   ]
  },
  {
   "cell_type": "code",
   "execution_count": 11,
   "id": "55023e1e-226e-46e6-ad55-2e2517a08046",
   "metadata": {},
   "outputs": [
    {
     "data": {
      "text/html": [
       "<div>\n",
       "<style scoped>\n",
       "    .dataframe tbody tr th:only-of-type {\n",
       "        vertical-align: middle;\n",
       "    }\n",
       "\n",
       "    .dataframe tbody tr th {\n",
       "        vertical-align: top;\n",
       "    }\n",
       "\n",
       "    .dataframe thead th {\n",
       "        text-align: right;\n",
       "    }\n",
       "</style>\n",
       "<table border=\"1\" class=\"dataframe\">\n",
       "  <thead>\n",
       "    <tr style=\"text-align: right;\">\n",
       "      <th></th>\n",
       "      <th>sacreBleu.Jamo</th>\n",
       "      <th>sacreBleu.Kiwi</th>\n",
       "      <th>sacreBleu.Kkma</th>\n",
       "      <th>sacreBleu.Komoran</th>\n",
       "      <th>sacreBleu.Hannanum</th>\n",
       "      <th>sacreBleu.Khaiii</th>\n",
       "      <th>sacreBleu.Mecab</th>\n",
       "      <th>sacreBleu.None</th>\n",
       "      <th>sacreBleu.Okt</th>\n",
       "      <th>sacreBleu.Spm</th>\n",
       "      <th>sacreBleu.Character</th>\n",
       "      <th>Human</th>\n",
       "    </tr>\n",
       "  </thead>\n",
       "  <tbody>\n",
       "    <tr>\n",
       "      <th>2</th>\n",
       "      <td>1</td>\n",
       "      <td>1</td>\n",
       "      <td>0.5</td>\n",
       "      <td>0.5</td>\n",
       "      <td>3</td>\n",
       "      <td>1</td>\n",
       "      <td>1.5</td>\n",
       "      <td>5</td>\n",
       "      <td>3.5</td>\n",
       "      <td>1</td>\n",
       "      <td>0</td>\n",
       "      <td>0</td>\n",
       "    </tr>\n",
       "    <tr>\n",
       "      <th>4</th>\n",
       "      <td>0.75</td>\n",
       "      <td>1</td>\n",
       "      <td>1</td>\n",
       "      <td>1</td>\n",
       "      <td>3.5</td>\n",
       "      <td>1</td>\n",
       "      <td>1.25</td>\n",
       "      <td>5</td>\n",
       "      <td>3</td>\n",
       "      <td>1.5</td>\n",
       "      <td>0.25</td>\n",
       "      <td>0</td>\n",
       "    </tr>\n",
       "    <tr>\n",
       "      <th>6</th>\n",
       "      <td>1</td>\n",
       "      <td>1</td>\n",
       "      <td>1.167</td>\n",
       "      <td>1</td>\n",
       "      <td>3.667</td>\n",
       "      <td>0.833</td>\n",
       "      <td>1</td>\n",
       "      <td>5</td>\n",
       "      <td>2.833</td>\n",
       "      <td>1.333</td>\n",
       "      <td>0.5</td>\n",
       "      <td>0</td>\n",
       "    </tr>\n",
       "    <tr>\n",
       "      <th>8</th>\n",
       "      <td>1.25</td>\n",
       "      <td>0.75</td>\n",
       "      <td>0.875</td>\n",
       "      <td>0.875</td>\n",
       "      <td>3.75</td>\n",
       "      <td>0.75</td>\n",
       "      <td>0.75</td>\n",
       "      <td>5</td>\n",
       "      <td>2.75</td>\n",
       "      <td>1.375</td>\n",
       "      <td>0.75</td>\n",
       "      <td>0</td>\n",
       "    </tr>\n",
       "    <tr>\n",
       "      <th>10</th>\n",
       "      <td>1.2</td>\n",
       "      <td>0.7</td>\n",
       "      <td>0.8</td>\n",
       "      <td>0.9</td>\n",
       "      <td>3.7</td>\n",
       "      <td>0.8</td>\n",
       "      <td>0.7</td>\n",
       "      <td>5</td>\n",
       "      <td>2.9</td>\n",
       "      <td>1.3</td>\n",
       "      <td>0.6</td>\n",
       "      <td>0</td>\n",
       "    </tr>\n",
       "  </tbody>\n",
       "</table>\n",
       "</div>"
      ],
      "text/plain": [
       "   sacreBleu.Jamo sacreBleu.Kiwi sacreBleu.Kkma sacreBleu.Komoran  \\\n",
       "2               1              1            0.5               0.5   \n",
       "4            0.75              1              1                 1   \n",
       "6               1              1          1.167                 1   \n",
       "8            1.25           0.75          0.875             0.875   \n",
       "10            1.2            0.7            0.8               0.9   \n",
       "\n",
       "   sacreBleu.Hannanum sacreBleu.Khaiii sacreBleu.Mecab sacreBleu.None  \\\n",
       "2                   3                1             1.5              5   \n",
       "4                 3.5                1            1.25              5   \n",
       "6               3.667            0.833               1              5   \n",
       "8                3.75             0.75            0.75              5   \n",
       "10                3.7              0.8             0.7              5   \n",
       "\n",
       "   sacreBleu.Okt sacreBleu.Spm sacreBleu.Character Human  \n",
       "2            3.5             1                   0     0  \n",
       "4              3           1.5                0.25     0  \n",
       "6          2.833         1.333                 0.5     0  \n",
       "8           2.75         1.375                0.75     0  \n",
       "10           2.9           1.3                 0.6     0  "
      ]
     },
     "execution_count": 11,
     "metadata": {},
     "output_type": "execute_result"
    }
   ],
   "source": [
    "# i.e = BLEU\n",
    "samples = resampling.Resampling(frame=f.selectFrame('bleu'),\n",
    "                    m=3000, n=1000, iteration=10)\n",
    "samples.bootstrap_resampling(2)"
   ]
  },
  {
   "cell_type": "markdown",
   "id": "9aa5b7d9-f606-414d-90ba-dbc0001b3ca2",
   "metadata": {
    "tags": []
   },
   "source": [
    "### 3. Tokenizer"
   ]
  },
  {
   "cell_type": "code",
   "execution_count": 4,
   "id": "5e56d71f-55b3-4878-95ec-7078055e9e68",
   "metadata": {},
   "outputs": [],
   "source": [
    "# Pre-tokenization = None\n",
    "hypothesis = \"모델 레온 데임(20)은 아무도 밟지 않은 것처럼 캣워크를 활보하며 \\\n",
    "    한 발을 다른 발 앞에 강하게 내딛고 활주로를 밟으며 강렬하고 강철 같은 섬광을 그대로 유지했다.\"\n",
    "reference = [\"모델 레옹 데임(20)은 아직 그 누구도 시도한 적 없는 방식으로 캣워크를 활보했다.\\\n",
    "    그는 강렬하고 찌를 듯한 눈빛을 유지한 채 한 발 한 발 힘차게 내뻗으며 런웨이를 밟아 나갔다.\"]"
   ]
  },
  {
   "cell_type": "code",
   "execution_count": 5,
   "id": "3291da69-1556-4e4a-a8b0-093920ea2ffd",
   "metadata": {},
   "outputs": [],
   "source": [
    "from tool.tokenizer import koNLPy, kakao, subword"
   ]
  },
  {
   "cell_type": "code",
   "execution_count": 3,
   "id": "20ee6ca0-be3c-4436-b5c7-4574e75d9761",
   "metadata": {},
   "outputs": [
    {
     "name": "stdout",
     "output_type": "stream",
     "text": [
      "['모델', '레온', '데', '임', '(', '20', ')', '은', '아무도', '밟', '지', '않', '은', '것', '처럼', '캐', '엇', '워크', '를', '활보', '하', '며', '한', '발', '을', '다른', '발', '앞', '에', '강하', '게', '내딛', '고', '활주로', '를', '밟', '으며', '강렬', '하', '고', '강철', '같', '은', '섬광', '을', '그대로', '유지', '하', '았', '다', '.']\n"
     ]
    }
   ],
   "source": [
    "# KoNLPy\n",
    "komoran = koNLPy.KoNLPy('komoran')\n",
    "print(komoran.tokenize(hypothesis))"
   ]
  },
  {
   "cell_type": "code",
   "execution_count": 4,
   "id": "0e4b63c3-f35a-4790-8878-04053127f275",
   "metadata": {},
   "outputs": [
    {
     "name": "stdout",
     "output_type": "stream",
     "text": [
      "['모델', '레온', '데이', 'ᆷ', '(', '20', ')', '은', '아무', '도', '밟', '지', '않', '은', '것', '처럼', '캣워크', '를', '활보', '하', '며', '한', '발', '을', '다른', '발', '앞', '에', '강하', '게', '내딛', '고', '활주로', '를', '밟', '으며', '강렬', '하', '고', '강철', '같', '은', '섬광', '을', '그대로', '유지', '하', '었', '다', '.']\n"
     ]
    }
   ],
   "source": [
    "# Kiwi\n",
    "kiwi = kakao.Kiwi()\n",
    "print(kiwi.tokenize(hypothesis))"
   ]
  },
  {
   "cell_type": "code",
   "execution_count": 5,
   "id": "340c1c39-51d2-4787-9325-361beeda486b",
   "metadata": {},
   "outputs": [
    {
     "data": {
      "text/plain": [
       "'모델 레온 데이 ᆷ ( 20 ) 은 아무 도 밟 지 않 은 것 처럼 캣워크 를 활보 하 며 한 발 을 다른 발 앞 에 강하 게 내딛 고 활주로 를 밟 으며 강렬 하 고 강철 같 은 섬광 을 그대로 유지 하 었 다 .'"
      ]
     },
     "execution_count": 5,
     "metadata": {},
     "output_type": "execute_result"
    }
   ],
   "source": [
    "tokens = kiwi.tokenize(hypothesis)\n",
    "kiwi.token_to_sent(tokens)"
   ]
  },
  {
   "cell_type": "code",
   "execution_count": 6,
   "id": "be2aeed8-3478-4f4a-9d1d-35c415d0f565",
   "metadata": {},
   "outputs": [
    {
     "name": "stdout",
     "output_type": "stream",
     "text": [
      "['모델', '레온', '데임', '(', '20', ')', '은', '아무', '도', '밟', '지', '않', '은', '것', '처럼', '캣워크', '를', '활보', '하', '며', '한', '발', '을', '다른', '발', '앞', '에', '강하', '게', '내딛', '고', '활주로', '를', '밟', '으며', '강렬', '하', '고', '강철', '같', '은', '섬광', '을', '그대로', '유지', '하', '였', '다', '.']\n"
     ]
    }
   ],
   "source": [
    "# Khaiii\n",
    "khaiii = kakao.Khaiii()\n",
    "print(khaiii.tokenize(hypothesis))"
   ]
  },
  {
   "cell_type": "markdown",
   "id": "7d7ff70d-a117-475c-b4c0-6135a140f086",
   "metadata": {
    "tags": []
   },
   "source": [
    "### 4. Automatic Metric Scoring \n",
    "- SacreBLEU: BLEU, TER, CHRF\n",
    "- NLTK: BLEU, NIST, GLEU, RIBES, ...\n",
    "- EED\n",
    "- CharacTER"
   ]
  },
  {
   "cell_type": "markdown",
   "id": "849a21e9-f1fe-41cc-85a1-16c28e6ecad9",
   "metadata": {},
   "source": [
    "#### SacreBLEU"
   ]
  },
  {
   "cell_type": "code",
   "execution_count": 2,
   "id": "2e4f89b2-f804-4ffc-8bf5-0578bbd40606",
   "metadata": {},
   "outputs": [],
   "source": [
    "from tool.metric.sacreBLEU import SacreBLEU"
   ]
  },
  {
   "cell_type": "code",
   "execution_count": 3,
   "id": "56048e24-6479-4178-b629-52da60aa7479",
   "metadata": {},
   "outputs": [],
   "source": [
    "metric = SacreBLEU('bleu')\n",
    "\n",
    "metric.hypothesis=hypothesis\n",
    "metric.references=reference"
   ]
  },
  {
   "cell_type": "code",
   "execution_count": 4,
   "id": "dc9b67e6-9666-4815-b8b0-10fca9de6c1e",
   "metadata": {
    "tags": []
   },
   "outputs": [
    {
     "data": {
      "text/plain": [
       "BLEU = 12.35 37.9/14.3/11.1/7.7 (BP = 0.842 ratio = 0.853 hyp_len = 29 ref_len = 34)"
      ]
     },
     "execution_count": 4,
     "metadata": {},
     "output_type": "execute_result"
    }
   ],
   "source": [
    "metric.get_score(sys_level=False)"
   ]
  },
  {
   "cell_type": "code",
   "execution_count": 5,
   "id": "2a9209f1-a21a-435f-b9f8-baa18e21b91a",
   "metadata": {},
   "outputs": [
    {
     "ename": "TypeError",
     "evalue": "setattr expected 3 arguments, got 2",
     "output_type": "error",
     "traceback": [
      "\u001b[0;31m---------------------------------------------------------------------------\u001b[0m",
      "\u001b[0;31mTypeError\u001b[0m                                 Traceback (most recent call last)",
      "\u001b[0;32m<ipython-input-5-85d68b970d2c>\u001b[0m in \u001b[0;36m<module>\u001b[0;34m\u001b[0m\n\u001b[0;32m----> 1\u001b[0;31m \u001b[0mmetric\u001b[0m\u001b[0;34m.\u001b[0m\u001b[0mrun_all\u001b[0m\u001b[0;34m(\u001b[0m\u001b[0;34m)\u001b[0m\u001b[0;34m\u001b[0m\u001b[0;34m\u001b[0m\u001b[0m\n\u001b[0m",
      "\u001b[0;32m/data/private/git_public/ko-tokenization/tool/metric/sacreBLEU.py\u001b[0m in \u001b[0;36mrun_all\u001b[0;34m(self, sys_level)\u001b[0m\n\u001b[1;32m     44\u001b[0m         \u001b[0;32mfor\u001b[0m \u001b[0meach\u001b[0m \u001b[0;32min\u001b[0m \u001b[0mNAME\u001b[0m\u001b[0;34m:\u001b[0m\u001b[0;34m\u001b[0m\u001b[0;34m\u001b[0m\u001b[0m\n\u001b[1;32m     45\u001b[0m             \u001b[0;31m#setattr(cls, 'name', each)\u001b[0m\u001b[0;34m\u001b[0m\u001b[0;34m\u001b[0m\u001b[0;34m\u001b[0m\u001b[0m\n\u001b[0;32m---> 46\u001b[0;31m             \u001b[0msetattr\u001b[0m\u001b[0;34m(\u001b[0m\u001b[0;34m'method_sentence'\u001b[0m\u001b[0;34m,\u001b[0m \u001b[0;34mf'sentence_{each}'\u001b[0m\u001b[0;34m)\u001b[0m\u001b[0;34m\u001b[0m\u001b[0;34m\u001b[0m\u001b[0m\n\u001b[0m\u001b[1;32m     47\u001b[0m             \u001b[0msetattr\u001b[0m\u001b[0;34m(\u001b[0m\u001b[0;34m'method_corpus'\u001b[0m\u001b[0;34m,\u001b[0m \u001b[0;34mf'sentence_{each}'\u001b[0m\u001b[0;34m)\u001b[0m\u001b[0;34m\u001b[0m\u001b[0;34m\u001b[0m\u001b[0m\n\u001b[1;32m     48\u001b[0m \u001b[0;34m\u001b[0m\u001b[0m\n",
      "\u001b[0;31mTypeError\u001b[0m: setattr expected 3 arguments, got 2"
     ]
    }
   ],
   "source": [
    "metric.run_all()"
   ]
  },
  {
   "cell_type": "markdown",
   "id": "8890236d-c1db-4344-840e-e13ae8484b02",
   "metadata": {},
   "source": [
    "#### NLTK"
   ]
  },
  {
   "cell_type": "code",
   "execution_count": null,
   "id": "244db6bb-0d41-4846-a0ac-333ad464b0ad",
   "metadata": {},
   "outputs": [],
   "source": []
  }
 ],
 "metadata": {
  "kernelspec": {
   "display_name": "Python 3",
   "language": "python",
   "name": "python3"
  },
  "language_info": {
   "codemirror_mode": {
    "name": "ipython",
    "version": 3
   },
   "file_extension": ".py",
   "mimetype": "text/x-python",
   "name": "python",
   "nbconvert_exporter": "python",
   "pygments_lexer": "ipython3",
   "version": "3.6.9"
  }
 },
 "nbformat": 4,
 "nbformat_minor": 5
}
