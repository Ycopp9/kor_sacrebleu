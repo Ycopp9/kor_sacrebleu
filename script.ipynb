{
 "cells": [
  {
   "cell_type": "code",
   "execution_count": 1,
   "id": "ddd7c1c0-8e39-441e-ace3-6934db9bb4a4",
   "metadata": {},
   "outputs": [],
   "source": [
    "from tool import processor, correlation, resampling"
   ]
  },
  {
   "cell_type": "markdown",
   "id": "e30e25ea-eabf-4c07-a617-146d3b7ce92a",
   "metadata": {
    "tags": []
   },
   "source": [
    "### Rank Clustering"
   ]
  },
  {
   "cell_type": "code",
   "execution_count": 2,
   "id": "db2f80bd-bfc9-4781-9415-28f54fde589e",
   "metadata": {},
   "outputs": [],
   "source": [
    "path = './data/segment_level/raw'\n",
    "f = processor.FileProcessor(path)"
   ]
  },
  {
   "cell_type": "code",
   "execution_count": 3,
   "id": "99d0beaa-a9f9-4714-9c7b-4fa8b778005a",
   "metadata": {},
   "outputs": [
    {
     "data": {
      "text/html": [
       "<div>\n",
       "<style scoped>\n",
       "    .dataframe tbody tr th:only-of-type {\n",
       "        vertical-align: middle;\n",
       "    }\n",
       "\n",
       "    .dataframe tbody tr th {\n",
       "        vertical-align: top;\n",
       "    }\n",
       "\n",
       "    .dataframe thead th {\n",
       "        text-align: right;\n",
       "    }\n",
       "</style>\n",
       "<table border=\"1\" class=\"dataframe\">\n",
       "  <thead>\n",
       "    <tr style=\"text-align: right;\">\n",
       "      <th></th>\n",
       "      <th>sacreTer.Hannanum</th>\n",
       "      <th>sacreTer.Khaiii</th>\n",
       "      <th>sacreTer.Kiwi</th>\n",
       "      <th>sacreTer.Kkma</th>\n",
       "      <th>sacreTer.Mecab</th>\n",
       "      <th>sacreTer.Komoran</th>\n",
       "      <th>sacreTer.None</th>\n",
       "      <th>sacreTer.Okt</th>\n",
       "      <th>sacreTer.Spm</th>\n",
       "      <th>sacreBleu.Jamo</th>\n",
       "      <th>...</th>\n",
       "      <th>sacreChrf.Kkma</th>\n",
       "      <th>sacreChrf.Komoran</th>\n",
       "      <th>sacreChrf.Mecab</th>\n",
       "      <th>sacreChrf.None</th>\n",
       "      <th>sacreChrf.Okt</th>\n",
       "      <th>sacreChrf.Spm</th>\n",
       "      <th>sacreChrf.Character</th>\n",
       "      <th>sacreTer.Jamo</th>\n",
       "      <th>sacreTer.Character</th>\n",
       "      <th>Human</th>\n",
       "    </tr>\n",
       "  </thead>\n",
       "  <tbody>\n",
       "    <tr>\n",
       "      <th>0</th>\n",
       "      <td>64.7059</td>\n",
       "      <td>50.0</td>\n",
       "      <td>50.0000</td>\n",
       "      <td>47.8261</td>\n",
       "      <td>50.0000</td>\n",
       "      <td>50.0000</td>\n",
       "      <td>77.7778</td>\n",
       "      <td>66.6667</td>\n",
       "      <td>50.0000</td>\n",
       "      <td>53.4154</td>\n",
       "      <td>...</td>\n",
       "      <td>53.3701</td>\n",
       "      <td>53.0081</td>\n",
       "      <td>52.3972</td>\n",
       "      <td>50.6958</td>\n",
       "      <td>48.1593</td>\n",
       "      <td>52.3972</td>\n",
       "      <td>54.0168</td>\n",
       "      <td>34.8485</td>\n",
       "      <td>44.8276</td>\n",
       "      <td>-1.0107</td>\n",
       "    </tr>\n",
       "    <tr>\n",
       "      <th>1</th>\n",
       "      <td>56.5217</td>\n",
       "      <td>62.5</td>\n",
       "      <td>54.1667</td>\n",
       "      <td>50.0000</td>\n",
       "      <td>60.0000</td>\n",
       "      <td>54.1667</td>\n",
       "      <td>66.6667</td>\n",
       "      <td>55.5556</td>\n",
       "      <td>59.0909</td>\n",
       "      <td>40.8603</td>\n",
       "      <td>...</td>\n",
       "      <td>44.6038</td>\n",
       "      <td>44.7165</td>\n",
       "      <td>41.2800</td>\n",
       "      <td>39.2493</td>\n",
       "      <td>41.2018</td>\n",
       "      <td>41.4562</td>\n",
       "      <td>41.8010</td>\n",
       "      <td>47.0588</td>\n",
       "      <td>52.9412</td>\n",
       "      <td>-1.0107</td>\n",
       "    </tr>\n",
       "    <tr>\n",
       "      <th>2</th>\n",
       "      <td>27.5862</td>\n",
       "      <td>25.0</td>\n",
       "      <td>25.0000</td>\n",
       "      <td>29.0323</td>\n",
       "      <td>25.8065</td>\n",
       "      <td>22.5806</td>\n",
       "      <td>45.4545</td>\n",
       "      <td>33.3333</td>\n",
       "      <td>25.8065</td>\n",
       "      <td>60.0980</td>\n",
       "      <td>...</td>\n",
       "      <td>66.3012</td>\n",
       "      <td>70.0629</td>\n",
       "      <td>68.7973</td>\n",
       "      <td>65.4657</td>\n",
       "      <td>67.0995</td>\n",
       "      <td>68.7973</td>\n",
       "      <td>67.6693</td>\n",
       "      <td>24.4444</td>\n",
       "      <td>25.6410</td>\n",
       "      <td>1.1051</td>\n",
       "    </tr>\n",
       "  </tbody>\n",
       "</table>\n",
       "<p>3 rows × 34 columns</p>\n",
       "</div>"
      ],
      "text/plain": [
       "   sacreTer.Hannanum  sacreTer.Khaiii  sacreTer.Kiwi  sacreTer.Kkma  \\\n",
       "0            64.7059             50.0        50.0000        47.8261   \n",
       "1            56.5217             62.5        54.1667        50.0000   \n",
       "2            27.5862             25.0        25.0000        29.0323   \n",
       "\n",
       "   sacreTer.Mecab  sacreTer.Komoran  sacreTer.None  sacreTer.Okt  \\\n",
       "0         50.0000           50.0000        77.7778       66.6667   \n",
       "1         60.0000           54.1667        66.6667       55.5556   \n",
       "2         25.8065           22.5806        45.4545       33.3333   \n",
       "\n",
       "   sacreTer.Spm  sacreBleu.Jamo  ...  sacreChrf.Kkma  sacreChrf.Komoran  \\\n",
       "0       50.0000         53.4154  ...         53.3701            53.0081   \n",
       "1       59.0909         40.8603  ...         44.6038            44.7165   \n",
       "2       25.8065         60.0980  ...         66.3012            70.0629   \n",
       "\n",
       "   sacreChrf.Mecab  sacreChrf.None  sacreChrf.Okt  sacreChrf.Spm  \\\n",
       "0          52.3972         50.6958        48.1593        52.3972   \n",
       "1          41.2800         39.2493        41.2018        41.4562   \n",
       "2          68.7973         65.4657        67.0995        68.7973   \n",
       "\n",
       "   sacreChrf.Character  sacreTer.Jamo  sacreTer.Character   Human  \n",
       "0              54.0168        34.8485             44.8276 -1.0107  \n",
       "1              41.8010        47.0588             52.9412 -1.0107  \n",
       "2              67.6693        24.4444             25.6410  1.1051  \n",
       "\n",
       "[3 rows x 34 columns]"
      ]
     },
     "execution_count": 3,
     "metadata": {},
     "output_type": "execute_result"
    }
   ],
   "source": [
    "df = f.makeFrame()\n",
    "df.head(3)"
   ]
  },
  {
   "cell_type": "code",
   "execution_count": 4,
   "id": "078afe6d-4338-4292-acab-53e9bb68e09d",
   "metadata": {
    "tags": []
   },
   "outputs": [
    {
     "name": "stdout",
     "output_type": "stream",
     "text": [
      "[('sacreBleu.Character', 0), ('sacreBleu.Kiwi', 0), ('sacreBleu.Komoran', 0), ('sacreBleu.Jamo', 0), ('sacreBleu.Khaiii', 1), ('sacreBleu.Kkma', 2), ('sacreBleu.Mecab', 2), ('sacreBleu.Spm', 3), ('sacreBleu.Okt', 4), ('sacreBleu.Hannanum', 5), ('sacreBleu.None', 6)] \n",
      "\n",
      "[('sacreChrf.Komoran', 0), ('sacreChrf.Khaiii', 0), ('sacreChrf.Kiwi', 1), ('sacreChrf.Kkma', 2), ('sacreChrf.Character', 2), ('sacreChrf.Mecab', 2), ('sacreChrf.Spm', 2), ('sacreChrf.Okt', 3), ('sacreChrf.Hannanum', 4), ('sacreChrf.None', 5), ('sacreChrf.Jamo', 6)] \n",
      "\n",
      "[('sacreTer.None', 0), ('sacreTer.Hannanum', 1), ('sacreTer.Jamo', 1), ('sacreTer.Okt', 2), ('sacreTer.Character', 3), ('sacreTer.Khaiii', 4), ('sacreTer.Spm', 4), ('sacreTer.Komoran', 4), ('sacreTer.Mecab', 5), ('sacreTer.Kiwi', 6), ('sacreTer.Kkma', 6)] \n",
      "\n"
     ]
    }
   ],
   "source": [
    "for metric in ['bleu', 'chrf', 'ter']:\n",
    "    pearson = correlation.Correlation(f.selectFrame(metric))\n",
    "    print(pearson.rank_cluster(), '\\n')"
   ]
  },
  {
   "cell_type": "markdown",
   "id": "2867814b-f23e-4b38-916e-13407cae433d",
   "metadata": {
    "tags": []
   },
   "source": [
    "### Bootstrap Resampling"
   ]
  },
  {
   "cell_type": "code",
   "execution_count": null,
   "id": "55023e1e-226e-46e6-ad55-2e2517a08046",
   "metadata": {},
   "outputs": [],
   "source": [
    "# i.e = BLEU\n",
    "samples = resampling.Resampling(frame=f.selectFrame('bleu'),\n",
    "                    m=3000, n=1000, iteration=10)\n",
    "samples.bootstrap_resampling(2)"
   ]
  },
  {
   "cell_type": "markdown",
   "id": "7d7ff70d-a117-475c-b4c0-6135a140f086",
   "metadata": {
    "tags": []
   },
   "source": [
    "### Automatic Metric Scoring "
   ]
  },
  {
   "cell_type": "markdown",
   "id": "849a21e9-f1fe-41cc-85a1-16c28e6ecad9",
   "metadata": {},
   "source": [
    "#### SacreBLEU"
   ]
  },
  {
   "cell_type": "code",
   "execution_count": 7,
   "id": "2e4f89b2-f804-4ffc-8bf5-0578bbd40606",
   "metadata": {},
   "outputs": [],
   "source": [
    "from tool.metric.sacreBLEU import SacreBLEU"
   ]
  },
  {
   "cell_type": "code",
   "execution_count": 8,
   "id": "5e56d71f-55b3-4878-95ec-7078055e9e68",
   "metadata": {},
   "outputs": [],
   "source": [
    "hypothesis = \"모델 레온 데임(20)은 아무도 밟지 않은 것처럼 캣워크를 활보하며 한 발을 다른 발 앞에 강하게 내딛고 활주로를 밟으며 강렬하고 강철 같은 섬광을 그대로 유지했다.\"\n",
    "reference = [\"모델 레옹 데임(20)은 아직 그 누구도 시도한 적 없는 방식으로 캣워크를 활보했다. 그는 강렬하고 찌를 듯한 눈빛을 유지한 채 한 발 한 발 힘차게 내뻗으며 런웨이를 밟아 나갔다.\"]"
   ]
  },
  {
   "cell_type": "code",
   "execution_count": 9,
   "id": "56048e24-6479-4178-b629-52da60aa7479",
   "metadata": {},
   "outputs": [],
   "source": [
    "metric = SacreBLEU('bleu')\n",
    "\n",
    "metric.hypothesis=hypothesis\n",
    "metric.references=reference"
   ]
  },
  {
   "cell_type": "code",
   "execution_count": 10,
   "id": "dc9b67e6-9666-4815-b8b0-10fca9de6c1e",
   "metadata": {
    "tags": []
   },
   "outputs": [
    {
     "data": {
      "text/plain": [
       "BLEU = 12.35 37.9/14.3/11.1/7.7 (BP = 0.842 ratio = 0.853 hyp_len = 29 ref_len = 34)"
      ]
     },
     "execution_count": 10,
     "metadata": {},
     "output_type": "execute_result"
    }
   ],
   "source": [
    "metric.get_score(sys_level=False)"
   ]
  },
  {
   "cell_type": "markdown",
   "id": "8890236d-c1db-4344-840e-e13ae8484b02",
   "metadata": {},
   "source": [
    "#### NLTK"
   ]
  },
  {
   "cell_type": "code",
   "execution_count": null,
   "id": "8e5165e7-a9c6-480e-b600-5964d26a6ccb",
   "metadata": {},
   "outputs": [],
   "source": []
  }
 ],
 "metadata": {
  "kernelspec": {
   "display_name": "Python 3",
   "language": "python",
   "name": "python3"
  },
  "language_info": {
   "codemirror_mode": {
    "name": "ipython",
    "version": 3
   },
   "file_extension": ".py",
   "mimetype": "text/x-python",
   "name": "python",
   "nbconvert_exporter": "python",
   "pygments_lexer": "ipython3",
   "version": "3.6.9"
  }
 },
 "nbformat": 4,
 "nbformat_minor": 5
}
