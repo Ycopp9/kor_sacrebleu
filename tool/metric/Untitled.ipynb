{
 "cells": [
  {
   "cell_type": "code",
   "execution_count": 17,
   "id": "4fc0df49-ff2c-4e0d-a947-751ce4f907c9",
   "metadata": {},
   "outputs": [],
   "source": [
    "from typing import Sequence, Optional\n",
    "\n",
    "\n",
    "class Metric:\n",
    "    def __init__(self, \n",
    "                 hypothesis: str = None,\n",
    "                 references: Optional[Sequence[Sequence[str]]] = None,\n",
    "                obj: object = None,\n",
    "                ):\n",
    "        self.hypothesis = hypothesis\n",
    "        self.references = references\n",
    "        self.obj = obj\n",
    "        \n",
    "        # True if the position of hypothesis comes after references\n",
    "        self.reverse = False\n",
    "        \n",
    "    def get_method(self, method_name: str):\n",
    "        return getattr(self.obj, method_name)\n",
    "    \n",
    "\n",
    "    def get_score(self, method_name, corpus_level=False, **kargs):\n",
    "        if corpus_level:\n",
    "            self.hypothesis = [self.hypothesis]\n",
    "            self.references = [self.references]\n",
    "        \n",
    "        if self.reverse:\n",
    "            return self.get_method(method_name)(self.references, self.hypothesis)\n",
    "        return self.get_method(method_name)(self.hypothesis, self.references, kargs)\n",
    "    \n",
    "import nltk\n",
    "from nltk.translate import *\n",
    "\n",
    "#from .base import Metric\n",
    "from typing import Sequence, Optional\n",
    "\n",
    "NAME = ['bleu', 'gleu', 'nist', 'ribes']\n",
    "# nltk.translate -> ribes_score -> sentence_ribes\n",
    "\n",
    "class N(Metric):\n",
    "    def __init__(self, name: str,\n",
    "                smooth_method: bool = False\n",
    "                ):\n",
    "        super().__init__()\n",
    "        \n",
    "        assert name.lower() in NAME, 'Wrong tokenizer name!'\n",
    "        self.name = name.lower() #ribes\n",
    "        self.obj = nltk.translate\n",
    "        self.tokenizer = super().get_method(f'{self.name}_score') #ribes_score\n",
    "        self.obj = self.tokenizer\n",
    "        self.method_sentence = f'sentence_{self.name}' #sentence_ribes\n",
    "        self.method_corpus = f'corpus_{self.name}'\n",
    "        self.reverse = True\n",
    "        \n",
    "        # smoothing_function\n",
    "        self.smooth_method = smooth_method\n",
    "        self.smoothing_function = None\n",
    "        if self.smooth_method:\n",
    "            self.smoothing_function = self.tokenizer.SmoothingFunction().method1\n",
    "          \n",
    "        \n",
    "    def get_score(self, sys_level: bool = False) -> float:\n",
    "        if sys_level:\n",
    "            return super().get_score(method_name=self.method_corpus,\n",
    "                                    corpus_level=True,\n",
    "                                    smoothing_function=self.smoothing_function\n",
    "                                    ) \n",
    "        else:\n",
    "            return super().get_score(method_name=self.method_sentence,\n",
    "                                 corpus_level=False,\n",
    "                                    smoothing_function=self.smoothing_function\n",
    "                                    )\n",
    "        \n",
    " "
   ]
  },
  {
   "cell_type": "code",
   "execution_count": 20,
   "id": "8cfcf6fa-a199-40a7-8465-bb5948bfada4",
   "metadata": {},
   "outputs": [],
   "source": [
    "test = N('bleu')\n",
    "test.hypothesis = 'hello world'\n",
    "test.references = ['hello word']"
   ]
  },
  {
   "cell_type": "code",
   "execution_count": 21,
   "id": "dbf20641-94c5-40fc-b3ae-376b304c07b5",
   "metadata": {},
   "outputs": [
    {
     "data": {
      "text/plain": [
       "0.8070557274927981"
      ]
     },
     "execution_count": 21,
     "metadata": {},
     "output_type": "execute_result"
    }
   ],
   "source": [
    "test.get_score()"
   ]
  },
  {
   "cell_type": "code",
   "execution_count": null,
   "id": "f65303ca-02af-437b-92ba-bc58ad812ee8",
   "metadata": {},
   "outputs": [],
   "source": []
  }
 ],
 "metadata": {
  "kernelspec": {
   "display_name": "Python 3",
   "language": "python",
   "name": "python3"
  },
  "language_info": {
   "codemirror_mode": {
    "name": "ipython",
    "version": 3
   },
   "file_extension": ".py",
   "mimetype": "text/x-python",
   "name": "python",
   "nbconvert_exporter": "python",
   "pygments_lexer": "ipython3",
   "version": "3.6.9"
  }
 },
 "nbformat": 4,
 "nbformat_minor": 5
}
